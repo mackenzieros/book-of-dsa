{
 "cells": [
  {
   "cell_type": "markdown",
   "metadata": {},
   "source": [
    "# Ultimate coding interview Algorithms and Concepts"
   ]
  },
  {
   "cell_type": "markdown",
   "metadata": {},
   "source": [
    "## What is this?\n",
    "<font color=green>\n",
    "    <p>\n",
    "        This is a notebook with descriptions, use cases, reasons, and, if applicable, implementations for several algorithms or concepts that are most important for passing the coding segment of the software engineer interview.\n",
    "    </p>\n",
    "    <p>\n",
    "        These are techniques that are most common and can be applied to various types of questions.\n",
    "    </p>\n",
    "</font>\n",
    "\n",
    "<p>\n",
    "    These techniques include:\n",
    "</p>\n",
    "<ol>\n",
    "    <li><b>Depth-first search (DFS)</b></li>\n",
    "    <li><b>Breadth-first search (BFS)</b></li>\n",
    "    <li><b>Matching parenthesis</b></li>\n",
    "    <li><b>Hash tables</b></li>\n",
    "    <li><b>Variables/Pointers manipulation</b></li>\n",
    "    <li><b>Reversing a linked list</b></li>\n",
    "    <li><b>Sorting fundamentals</b></li>\n",
    "    <li><b>Recursion</b></li>\n",
    "    <li><b>Custom data structures</b></li>\n",
    "    <li><b>Binary search</b></li>\n",
    "</ol>"
   ]
  },
  {
   "cell_type": "code",
   "execution_count": 4,
   "metadata": {},
   "outputs": [],
   "source": [
    "from collections import defaultdict\n",
    "\n",
    "class Graph:\n",
    "    def __init__(self):\n",
    "        self.graph = defaultdict(list)\n",
    "        \n",
    "    def addEdge(self, v: int, e: int):\n",
    "        self.graph[v].append(e)"
   ]
  },
  {
   "cell_type": "markdown",
   "metadata": {},
   "source": [
    "## Depth-first search (DFS)"
   ]
  },
  {
   "cell_type": "markdown",
   "metadata": {},
   "source": [
    "<p>\n",
    "    The most fundamental tree or graph traversal algorithm. This algorithm is used in many technical questions; questions that don't even seem related to graphs but may be turned into graph problems.\n",
    "</p>\n",
    "\n",
    "<p>\n",
    "    The essential idea is to traverse a tree or graph down to its leaf nodes, and then backtrack, and repeat. However, sometimes the tree structure is a series of string from which we need to traverse character by character in a depth-first search kind-of-way.\n",
    "</p>\n",
    "\n",
    "<p>\n",
    "    <p>\n",
    "        <strong>Time:</strong>\n",
    "        <p>\n",
    "            O(v + e) for explicit graphs traversed without repetition <strong>or</strong> O(b^d) for implicit graphs\n",
    "        </p>\n",
    "    </p>\n",
    "    </br>\n",
    "    <p>\n",
    "        <strong>Space:</strong>\n",
    "        <p>\n",
    "            O(v) if entire graph is traversed without repetition <strong>or</strong> O(bd) for implicit graphs without elimination of duplicate nodes\n",
    "        </p>\n",
    "    </p>\n",
    "    <p>\n",
    "        where v = # of vertices, e = # of edges, b = branching factor, d = depth\n",
    "    </p>\n",
    "</p>\n",
    "\n",
    "<p>\n",
    "    DFS is prone to looping infinitely if the graph contains a cycle. To combat this, we use an extra data structure to mark visited nodes.\n",
    "</p>"
   ]
  },
  {
   "cell_type": "code",
   "execution_count": 8,
   "metadata": {},
   "outputs": [],
   "source": [
    "def dfs(g: Graph) -> None:\n",
    "    visited = defaultdict(bool)\n",
    "    \n",
    "    for v in g.keys():\n",
    "        visited[v] = False\n",
    "        \n",
    "    dfs_util(g, visited, random.choice(g.keys()))\n",
    "\n",
    "\n",
    "def dfs_util(g: Graph, visited: defaultdict, v: int) -> None:\n",
    "    '''\n",
    "    Recursive version\n",
    "    '''  \n",
    "    visited[v] = True\n",
    "    print(v)\n",
    "    for e in graph[v]:\n",
    "        if not visited[e]:\n",
    "            dfs(g, e)"
   ]
  },
  {
   "cell_type": "code",
   "execution_count": 9,
   "metadata": {},
   "outputs": [],
   "source": [
    "import random\n",
    "\n",
    "def dfs(g: Graph, v: int) -> None:\n",
    "    '''\n",
    "    Iterative version\n",
    "    '''\n",
    "    visited = defaultdict(bool)\n",
    "    for v in g.keys():\n",
    "        visited[v] = False\n",
    "\n",
    "    stack = []\n",
    "    stack.append(random.choice(g.keys())) # choose an arbitrary starting vertex\n",
    "    \n",
    "    while len(stack) > 0:\n",
    "        v = stack[-1]\n",
    "        visited[v] = True\n",
    "        print(v)\n",
    "        stack.pop()\n",
    "        for e in graph[v]:\n",
    "            if not visited[e]:\n",
    "                stack.append(e)"
   ]
  },
  {
   "cell_type": "markdown",
   "metadata": {},
   "source": [
    "## Breadth-first search (BFS)"
   ]
  },
  {
   "cell_type": "markdown",
   "metadata": {},
   "source": [
    "<p>\n",
    "    The main difference between BFS and DFS is the order in which we traverse child nodes. In DFS we use a stack to add child nodes, adding all the child nodes of some node, and then taking the last added child and repeating the action.\n",
    "</p>\n",
    "\n",
    "<p>\n",
    "    In BFS, however, we use a queue. We add all the child nodes like before, but instead of taking the last adding child node, we look at the first child we added and add all of its children to the very end of the queue.\n",
    "</p>\n",
    "\n",
    "<p>\n",
    "    <p>\n",
    "        <strong>Time:</strong>\n",
    "        <p>\n",
    "            O(v + e) <strong>or</strong> O(b^d)\n",
    "        </p>\n",
    "    </p>\n",
    "    </br>\n",
    "    <p>\n",
    "        <strong>Space:</strong>\n",
    "        <p>\n",
    "            O(b^d)\n",
    "        </p>\n",
    "    </p>\n",
    "    <p>\n",
    "        where v = # of vertices, e = # of edges, b = branching factor, d = depth\n",
    "    </p>\n",
    "</p>\n",
    "\n",
    "<p>\n",
    "    BFS is also prone to looping infinitely if the graph contains a cycle. To combat this, we use an extra data structure to mark visited nodes.\n",
    "</p>"
   ]
  },
  {
   "cell_type": "code",
   "execution_count": 11,
   "metadata": {},
   "outputs": [],
   "source": [
    "import queue\n",
    "from collections import defaultdict\n",
    "\n",
    "def bfs(g: Graph, v: int) -> None:\n",
    "    '''\n",
    "    Because the queue and stack are essentially opposites in use.\n",
    "    There isn't a feasible recursive implementation of BFS unless we alter\n",
    "    the call stack to act as a queue, which should never be done.\n",
    "    '''\n",
    "    visited = defaultdict(bool)\n",
    "    for v in g.keys():\n",
    "        visited[v] = False\n",
    "    \n",
    "    q = queue.Queue()\n",
    "    q.put(random.choice(g.keys())) # choose an arbitrary starting vertex\n",
    "    \n",
    "    while not q.empty():\n",
    "        v = q.get()\n",
    "        visited[v] = True\n",
    "        print(v)\n",
    "        for e in graph[v]:\n",
    "            if not visited[e]:\n",
    "                q.put(e)"
   ]
  },
  {
   "cell_type": "markdown",
   "metadata": {},
   "source": [
    "## Matching Parenthesis"
   ]
  },
  {
   "cell_type": "markdown",
   "metadata": {},
   "source": [
    "<p>\n",
    "    Given a brackets such as '()[]{}', we want to find either the given string of brackets is valid ie. they all correctly close. Or we need to find the next valid bracket to add.\n",
    "</p>\n",
    "\n",
    "<p>\n",
    "    Typically, we use a stack to solve this problem. We add opening parentheses to the stack, and when we encounter a closing one, we try and match it with the last added opening parenthesis. More convoluted answers can use recursion, but a stack is the easiest to understand.\n",
    "</p>"
   ]
  },
  {
   "cell_type": "code",
   "execution_count": 12,
   "metadata": {},
   "outputs": [],
   "source": [
    "def matching_parens(parens: str) -> bool:\n",
    "    paren_dict = {\n",
    "        '(': ')',\n",
    "        '[': ']',\n",
    "        '{': '}',\n",
    "    }\n",
    "    \n",
    "    stack = []\n",
    "    for paren in parens:\n",
    "        if paren in paren_dict.keys():\n",
    "            stack.append(paren)\n",
    "        else:\n",
    "            if len(stack) == 0:\n",
    "                return False\n",
    "            \n",
    "            last_open = stack[-1]\n",
    "            stack.pop()\n",
    "            if paren != paren_dict[last_open]:\n",
    "                return False\n",
    "            \n",
    "    if len(stack) != 0:\n",
    "        return False\n",
    "    \n",
    "    return True"
   ]
  },
  {
   "cell_type": "code",
   "execution_count": 16,
   "metadata": {},
   "outputs": [
    {
     "data": {
      "text/plain": [
       "True"
      ]
     },
     "execution_count": 16,
     "metadata": {},
     "output_type": "execute_result"
    }
   ],
   "source": [
    "matching_parens('')"
   ]
  },
  {
   "cell_type": "code",
   "execution_count": null,
   "metadata": {},
   "outputs": [],
   "source": []
  }
 ],
 "metadata": {
  "kernelspec": {
   "display_name": "Python 3",
   "language": "python",
   "name": "python3"
  },
  "language_info": {
   "codemirror_mode": {
    "name": "ipython",
    "version": 3
   },
   "file_extension": ".py",
   "mimetype": "text/x-python",
   "name": "python",
   "nbconvert_exporter": "python",
   "pygments_lexer": "ipython3",
   "version": "3.7.6"
  }
 },
 "nbformat": 4,
 "nbformat_minor": 4
}
