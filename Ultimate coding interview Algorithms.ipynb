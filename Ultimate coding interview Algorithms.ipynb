{
 "cells": [
  {
   "cell_type": "markdown",
   "metadata": {},
   "source": [
    "# Ultimate coding interview Algorithms and Concepts"
   ]
  },
  {
   "cell_type": "markdown",
   "metadata": {},
   "source": [
    "## What is this?\n",
    "<font color=green>\n",
    "    <p>\n",
    "        This is a notebook with descriptions, use cases, reasons, and, if applicable, implementations for several algorithms or concepts that are most important for passing the coding segment of the software engineer interview.\n",
    "    </p>\n",
    "    <p>\n",
    "        These are techniques that are most common and can be applied to various types of questions.\n",
    "    </p>\n",
    "</font>\n",
    "\n",
    "<p>\n",
    "    These techniques include:\n",
    "</p>\n",
    "<ol>\n",
    "    <li><b>Depth-first search (DFS)</b></li>\n",
    "    <li><b>Breadth-first search (BFS)</b></li>\n",
    "    <li><b>Matching parenthesis</b></li>\n",
    "    <li><b>Hash tables</b></li>\n",
    "    <li><b>Variables/Pointers manipulation</b></li>\n",
    "    <li><b>Reversing a linked list</b></li>\n",
    "    <li><b>Sorting fundamentals</b></li>\n",
    "    <li><b>Recursion</b></li>\n",
    "    <li><b>Custom data structures</b></li>\n",
    "    <li><b>Binary search</b></li>\n",
    "</ol>"
   ]
  },
  {
   "cell_type": "code",
   "execution_count": null,
   "metadata": {},
   "outputs": [],
   "source": []
  }
 ],
 "metadata": {
  "kernelspec": {
   "display_name": "Python 3",
   "language": "python",
   "name": "python3"
  },
  "language_info": {
   "codemirror_mode": {
    "name": "ipython",
    "version": 3
   },
   "file_extension": ".py",
   "mimetype": "text/x-python",
   "name": "python",
   "nbconvert_exporter": "python",
   "pygments_lexer": "ipython3",
   "version": "3.7.6"
  }
 },
 "nbformat": 4,
 "nbformat_minor": 4
}
