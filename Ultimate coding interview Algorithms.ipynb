{
 "cells": [
  {
   "cell_type": "markdown",
   "metadata": {},
   "source": [
    "# Ultimate coding interview Algorithms and Concepts"
   ]
  },
  {
   "cell_type": "markdown",
   "metadata": {},
   "source": [
    "## What is this?\n",
    "<font color=green>\n",
    "    <p>\n",
    "        This is a notebook with descriptions, use cases, reasons, and, if applicable, implementations for several algorithms or concepts that are most important for passing the coding segment of the software engineer interview.\n",
    "    </p>\n",
    "    <p>\n",
    "        These are techniques that are most common and can be applied to various types of questions.\n",
    "    </p>\n",
    "</font>\n",
    "\n",
    "<p>\n",
    "    These techniques include:\n",
    "</p>\n",
    "<ol>\n",
    "    <li><b>Depth-first search (DFS)</b></li>\n",
    "    <li><b>Breadth-first search (BFS)</b></li>\n",
    "    <li><b>Matching parenthesis</b></li>\n",
    "    <li><b>Hash tables</b></li>\n",
    "    <li><b>Variables/Pointers manipulation</b></li>\n",
    "    <li><b>Reversing a linked list</b></li>\n",
    "    <li><b>Sorting fundamentals</b></li>\n",
    "    <li><b>Recursion</b></li>\n",
    "    <li><b>Custom data structures</b></li>\n",
    "    <li><b>Binary search</b></li>\n",
    "</ol>"
   ]
  },
  {
   "cell_type": "code",
   "execution_count": 4,
   "metadata": {},
   "outputs": [],
   "source": [
    "from collections import defaultdict\n",
    "\n",
    "class Graph:\n",
    "    def __init__(self):\n",
    "        self.graph = defaultdict(list)\n",
    "        \n",
    "    def addEdge(self, v: int, e: int):\n",
    "        self.graph[v].append(e)"
   ]
  },
  {
   "cell_type": "markdown",
   "metadata": {},
   "source": [
    "## 1. Depth-first search (DFS)"
   ]
  },
  {
   "cell_type": "markdown",
   "metadata": {},
   "source": [
    "The most fundamental tree or graph traversal algorithm. This algorithm is used in many technical questions; questions that don't even seem related to graphs but may be turned into graph problems.\n",
    "\n",
    "The essential idea is to traverse a tree or graph down to its leaf nodes, and then backtrack, and repeat. However, sometimes the tree structure is a series of string from which we need to traverse character by character in a depth-first search kind-of-way.\n",
    "\n",
    "<p>\n",
    "    <p>\n",
    "        <strong>Time:</strong>\n",
    "        <p>\n",
    "            O(v + e) for explicit graphs traversed without repetition <strong>or</strong> O(b^d) for implicit graphs\n",
    "        </p>\n",
    "    </p>\n",
    "    </br>\n",
    "    <p>\n",
    "        <strong>Space:</strong>\n",
    "        <p>\n",
    "            O(v) if entire graph is traversed without repetition <strong>or</strong> O(bd) for implicit graphs without elimination of duplicate nodes\n",
    "        </p>\n",
    "    </p>\n",
    "    <p>\n",
    "        where v = # of vertices, e = # of edges, b = branching factor, d = depth\n",
    "    </p>\n",
    "</p>\n",
    "\n",
    "DFS is prone to looping infinitely if the graph contains a cycle. To combat this, we use an extra data structure to mark visited nodes."
   ]
  },
  {
   "cell_type": "code",
   "execution_count": 8,
   "metadata": {},
   "outputs": [],
   "source": [
    "def dfs(g: Graph) -> None:\n",
    "    visited = defaultdict(bool)\n",
    "    \n",
    "    for v in g.keys():\n",
    "        visited[v] = False\n",
    "        \n",
    "    dfs_util(g, visited, random.choice(g.keys()))\n",
    "\n",
    "\n",
    "def dfs_util(g: Graph, visited: defaultdict, v: int) -> None:\n",
    "    '''\n",
    "    Recursive version\n",
    "    '''  \n",
    "    visited[v] = True\n",
    "    print(v)\n",
    "    for e in graph[v]:\n",
    "        if not visited[e]:\n",
    "            dfs(g, e)"
   ]
  },
  {
   "cell_type": "code",
   "execution_count": 9,
   "metadata": {},
   "outputs": [],
   "source": [
    "import random\n",
    "\n",
    "def dfs(g: Graph, v: int) -> None:\n",
    "    '''\n",
    "    Iterative version\n",
    "    '''\n",
    "    visited = defaultdict(bool)\n",
    "    for v in g.keys():\n",
    "        visited[v] = False\n",
    "\n",
    "    stack = []\n",
    "    stack.append(random.choice(g.keys())) # choose an arbitrary starting vertex\n",
    "    \n",
    "    while len(stack) > 0:\n",
    "        v = stack[-1]\n",
    "        visited[v] = True\n",
    "        print(v)\n",
    "        stack.pop()\n",
    "        for e in graph[v]:\n",
    "            if not visited[e]:\n",
    "                stack.append(e)"
   ]
  },
  {
   "cell_type": "markdown",
   "metadata": {},
   "source": [
    "## 2. Breadth-first search (BFS)"
   ]
  },
  {
   "cell_type": "markdown",
   "metadata": {},
   "source": [
    "The main difference between BFS and DFS is the order in which we traverse child nodes. In DFS we use a stack to add child nodes, adding all the child nodes of some node, and then taking the last added child and repeating the action.\n",
    "\n",
    "In BFS, however, we use a queue. We add all the child nodes like before, but instead of taking the last adding child node, we look at the first child we added and add all of its children to the very end of the queue.\n",
    "\n",
    "<p>\n",
    "    <p>\n",
    "        <strong>Time:</strong>\n",
    "        <p>\n",
    "            O(v + e) <strong>or</strong> O(b^d)\n",
    "        </p>\n",
    "    </p>\n",
    "    </br>\n",
    "    <p>\n",
    "        <strong>Space:</strong>\n",
    "        <p>\n",
    "            O(b^d)\n",
    "        </p>\n",
    "    </p>\n",
    "    <p>\n",
    "        where v = # of vertices, e = # of edges, b = branching factor, d = depth\n",
    "    </p>\n",
    "</p>\n",
    "\n",
    "BFS is also prone to looping infinitely if the graph contains a cycle. To combat this, we use an extra data structure to mark visited nodes."
   ]
  },
  {
   "cell_type": "code",
   "execution_count": 11,
   "metadata": {},
   "outputs": [],
   "source": [
    "import queue\n",
    "from collections import defaultdict\n",
    "\n",
    "def bfs(g: Graph, v: int) -> None:\n",
    "    '''\n",
    "    Because the queue and stack are essentially opposites in use.\n",
    "    There isn't a feasible recursive implementation of BFS unless we alter\n",
    "    the call stack to act as a queue, which should never be done.\n",
    "    '''\n",
    "    visited = defaultdict(bool)\n",
    "    for v in g.keys():\n",
    "        visited[v] = False\n",
    "    \n",
    "    q = queue.Queue()\n",
    "    q.put(random.choice(g.keys())) # choose an arbitrary starting vertex\n",
    "    \n",
    "    while not q.empty():\n",
    "        v = q.get()\n",
    "        visited[v] = True\n",
    "        print(v)\n",
    "        for e in graph[v]:\n",
    "            if not visited[e]:\n",
    "                q.put(e)"
   ]
  },
  {
   "cell_type": "markdown",
   "metadata": {},
   "source": [
    "## 3. Matching Parenthesis"
   ]
  },
  {
   "cell_type": "markdown",
   "metadata": {},
   "source": [
    "<p>\n",
    "    Given a brackets such as '()[]{}', we want to find either the given string of brackets is valid ie. they all correctly close. Or we need to find the next valid bracket to add.\n",
    "</p>\n",
    "\n",
    "<p>\n",
    "    Typically, we use a stack to solve this problem. We add opening parentheses to the stack, and when we encounter a closing one, we try and match it with the last added opening parenthesis. More convoluted answers can use recursion, but a stack is the easiest to understand.\n",
    "</p>"
   ]
  },
  {
   "cell_type": "code",
   "execution_count": 12,
   "metadata": {},
   "outputs": [],
   "source": [
    "def matching_parens(parens: str) -> bool:\n",
    "    paren_dict = {\n",
    "        '(': ')',\n",
    "        '[': ']',\n",
    "        '{': '}',\n",
    "    }\n",
    "    \n",
    "    stack = []\n",
    "    for paren in parens:\n",
    "        if paren in paren_dict.keys():\n",
    "            stack.append(paren)\n",
    "        else:\n",
    "            if len(stack) == 0:\n",
    "                return False\n",
    "            \n",
    "            last_open = stack[-1]\n",
    "            stack.pop()\n",
    "            if paren != paren_dict[last_open]:\n",
    "                return False\n",
    "            \n",
    "    if len(stack) != 0:\n",
    "        return False\n",
    "    \n",
    "    return True"
   ]
  },
  {
   "cell_type": "code",
   "execution_count": 16,
   "metadata": {},
   "outputs": [
    {
     "data": {
      "text/plain": [
       "True"
      ]
     },
     "execution_count": 16,
     "metadata": {},
     "output_type": "execute_result"
    }
   ],
   "source": [
    "matching_parens('')"
   ]
  },
  {
   "cell_type": "markdown",
   "metadata": {},
   "source": [
    "## 4. Making use of Hash Tables"
   ]
  },
  {
   "cell_type": "markdown",
   "metadata": {},
   "source": [
    "Another fundamental skill is to be able to recognize situations in which a hash table can be utilized. For example, suppose we want to traverse a 2-D matrix. We need to somehow keep track of already visited locations in the matrix. A hash table can be used to maintain this information. \n",
    "\n",
    "Further, we can also use hash tables to cache values. For example, computing the nth fibonacci number. The fibonacci number of 10 (fib(10)) = fib(9) + fib(8). A hash table can be used to cache the previous fibonacci numbers."
   ]
  },
  {
   "cell_type": "code",
   "execution_count": 2,
   "metadata": {},
   "outputs": [
    {
     "name": "stdout",
     "output_type": "stream",
     "text": [
      "(5, 3)\n"
     ]
    }
   ],
   "source": [
    "def two_sum(nums: list, k: int) -> (int, int):\n",
    "    '''\n",
    "    In the two sum problem, the goal is to find two numbers that sum up to the \n",
    "    target value: k\n",
    "    '''\n",
    "    sums = dict()\n",
    "    for num in nums:\n",
    "        sums[k - num] = num\n",
    "        \n",
    "    for num in nums:\n",
    "        if num in sums:\n",
    "            return (num, sums[num])\n",
    "\n",
    "res = two_sum([5,1,3], 8)\n",
    "print(res)"
   ]
  },
  {
   "cell_type": "code",
   "execution_count": 4,
   "metadata": {},
   "outputs": [
    {
     "name": "stdout",
     "output_type": "stream",
     "text": [
      "55\n"
     ]
    }
   ],
   "source": [
    "def fib(num: int) -> int:\n",
    "    '''Calculate the fibonacci number'''\n",
    "    fib_map = dict()\n",
    "    fib_map[0] = 0\n",
    "    fib_map[1] = 1\n",
    "    \n",
    "    for i in range(2, num+1):\n",
    "        fib_map[i] = fib_map[i-1] + fib_map[i-2]\n",
    "        \n",
    "    return fib_map[num]\n",
    "\n",
    "res = fib(10)\n",
    "print(res)"
   ]
  },
  {
   "cell_type": "markdown",
   "metadata": {},
   "source": [
    "## 5. Variables/Pointers manipulation"
   ]
  },
  {
   "cell_type": "markdown",
   "metadata": {},
   "source": [
    "Manipulating multiple variables and/or pointers at once is not an algorithm but it is such a commonly needed concept in algorithms.\n",
    "\n",
    "They can be used for wanting to parellize traversing strings, analyzing linked lists, etc.\n",
    "\n",
    "A good example is finding the longest palindromic substring."
   ]
  },
  {
   "cell_type": "code",
   "execution_count": 20,
   "metadata": {},
   "outputs": [
    {
     "data": {
      "text/plain": [
       "'baab'"
      ]
     },
     "execution_count": 20,
     "metadata": {},
     "output_type": "execute_result"
    }
   ],
   "source": [
    "def longest_palindrome(S: str) -> str:\n",
    "    '''Find the longest palindromic substring'''\n",
    "    longest = ''\n",
    "    n = len(S)\n",
    "    for i in range(n):\n",
    "        sub1 = expand(S, i, i)\n",
    "        sub2 = expand(S, i, i+1)\n",
    "        longest = max(longest, sub1, sub2)\n",
    "\n",
    "    return longest\n",
    "\n",
    "def expand(S: str, left: int, right: int) -> str:\n",
    "    palindrome = ''\n",
    "    while (left > -1 and right < len(S)):\n",
    "            if S[left] != S[right]:\n",
    "                return palindrome\n",
    "            \n",
    "            palindrome = S[left:right+1]\n",
    "            left -= 1\n",
    "            right += 1\n",
    "            \n",
    "    return palindrome\n",
    "\n",
    "longest_palindrome('abaabba')"
   ]
  },
  {
   "cell_type": "markdown",
   "metadata": {},
   "source": [
    "## 6. Reversing a linked list"
   ]
  },
  {
   "cell_type": "markdown",
   "metadata": {},
   "source": [
    "A more contrived and tricky problem, but has application in many interview questions. Problems revolving around linked lists hardly arise in real-world problems, but they are really popular for interviewing. These can be deleting a node in a linked list, finding duplicates, deleting duplicates, and, of course, reversing a linked list.\n",
    "\n",
    "To reverse a linked list, you need 3 different pointers which can be stressful to do on the fly, and even creating the linked list class can cause issues, so let's practice!"
   ]
  },
  {
   "cell_type": "code",
   "execution_count": 23,
   "metadata": {},
   "outputs": [],
   "source": [
    "class ListNode:\n",
    "    def __init__(self, val, next=None):\n",
    "        self.val = val\n",
    "        self.next = next\n"
   ]
  },
  {
   "cell_type": "code",
   "execution_count": 54,
   "metadata": {},
   "outputs": [
    {
     "name": "stdout",
     "output_type": "stream",
     "text": [
      "1 5 7 \n",
      "7 5 1 \n"
     ]
    }
   ],
   "source": [
    "def reverse_ll(root: ListNode) -> ListNode:\n",
    "    if root.next == None:\n",
    "        return root\n",
    "    \n",
    "    prev = None\n",
    "    cur = root\n",
    "    nxt = None\n",
    "    \n",
    "    while cur != None:\n",
    "        nxt = cur.next\n",
    "        cur.next = prev\n",
    "        prev = cur\n",
    "        cur = nxt\n",
    "\n",
    "    return prev\n",
    "\n",
    "def print_ll(node: ListNode):\n",
    "    while node:\n",
    "        print(node.val, end=' ')\n",
    "        node = node.next\n",
    "    print()\n",
    "\n",
    "if __name__ == '__main__':\n",
    "    root = ListNode(1)\n",
    "    root.next = ListNode(5)\n",
    "    root.next.next = ListNode(7)\n",
    "    print_ll(root)\n",
    "    root = reverse_ll(root)\n",
    "    print_ll(root)"
   ]
  },
  {
   "cell_type": "code",
   "execution_count": null,
   "metadata": {},
   "outputs": [],
   "source": []
  }
 ],
 "metadata": {
  "kernelspec": {
   "display_name": "Python 3",
   "language": "python",
   "name": "python3"
  },
  "language_info": {
   "codemirror_mode": {
    "name": "ipython",
    "version": 3
   },
   "file_extension": ".py",
   "mimetype": "text/x-python",
   "name": "python",
   "nbconvert_exporter": "python",
   "pygments_lexer": "ipython3",
   "version": "3.7.6"
  }
 },
 "nbformat": 4,
 "nbformat_minor": 4
}
