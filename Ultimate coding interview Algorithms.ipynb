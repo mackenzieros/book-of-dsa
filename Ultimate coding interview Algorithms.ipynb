{
 "cells": [
  {
   "cell_type": "markdown",
   "metadata": {},
   "source": [
    "# Ultimate coding interview Algorithms and Concepts"
   ]
  },
  {
   "cell_type": "markdown",
   "metadata": {},
   "source": [
    "## What is this?\n",
    "<font color=green>\n",
    "    <p>\n",
    "        This is a notebook with descriptions, use cases, reasons, and, if applicable, implementations for several algorithms or concepts that are most important for passing the coding segment of the software engineer interview.\n",
    "    </p>\n",
    "    <p>\n",
    "        These are techniques that are most common and can be applied to various types of questions.\n",
    "    </p>\n",
    "</font>\n",
    "\n",
    "<p>\n",
    "    These techniques include:\n",
    "</p>\n",
    "<ol>\n",
    "    <li><b>Depth-first search (DFS)</b></li>\n",
    "    <li><b>Breadth-first search (BFS)</b></li>\n",
    "    <li><b>Matching parenthesis</b></li>\n",
    "    <li><b>Hash tables</b></li>\n",
    "    <li><b>Variables/Pointers manipulation</b></li>\n",
    "    <li><b>Reversing a linked list</b></li>\n",
    "    <li><b>Sorting fundamentals</b></li>\n",
    "    <li><b>Recursion</b></li>\n",
    "    <li><b>Custom data structures</b></li>\n",
    "    <li><b>Binary search</b></li>\n",
    "</ol>"
   ]
  },
  {
   "cell_type": "code",
   "execution_count": 4,
   "metadata": {},
   "outputs": [],
   "source": [
    "from collections import defaultdict\n",
    "\n",
    "class Graph:\n",
    "    def __init__(self):\n",
    "        self.graph = defaultdict(list)\n",
    "        \n",
    "    def addEdge(self, v: int, e: int):\n",
    "        self.graph[v].append(e)"
   ]
  },
  {
   "cell_type": "markdown",
   "metadata": {},
   "source": [
    "## 1. Depth-first search (DFS)"
   ]
  },
  {
   "cell_type": "markdown",
   "metadata": {},
   "source": [
    "The most fundamental tree or graph traversal algorithm. This algorithm is used in many technical questions; questions that don't even seem related to graphs but may be turned into graph problems.\n",
    "\n",
    "The essential idea is to traverse a tree or graph down to its leaf nodes, and then backtrack, and repeat. However, sometimes the tree structure is a series of string from which we need to traverse character by character in a depth-first search kind-of-way.\n",
    "\n",
    "<p>\n",
    "    <p>\n",
    "        <strong>Time:</strong>\n",
    "        <p>\n",
    "            O(v + e) for explicit graphs traversed without repetition <strong>or</strong> O(b^d) for implicit graphs\n",
    "        </p>\n",
    "    </p>\n",
    "    </br>\n",
    "    <p>\n",
    "        <strong>Space:</strong>\n",
    "        <p>\n",
    "            O(v) if entire graph is traversed without repetition <strong>or</strong> O(bd) for implicit graphs without elimination of duplicate nodes\n",
    "        </p>\n",
    "    </p>\n",
    "    <p>\n",
    "        where v = # of vertices, e = # of edges, b = branching factor, d = depth\n",
    "    </p>\n",
    "</p>\n",
    "\n",
    "DFS is prone to looping infinitely if the graph contains a cycle. To combat this, we use an extra data structure to mark visited nodes."
   ]
  },
  {
   "cell_type": "code",
   "execution_count": 8,
   "metadata": {},
   "outputs": [],
   "source": [
    "def dfs(g: Graph) -> None:\n",
    "    visited = defaultdict(bool)\n",
    "    \n",
    "    for v in g.keys():\n",
    "        visited[v] = False\n",
    "        \n",
    "    dfs_util(g, visited, random.choice(g.keys()))\n",
    "\n",
    "\n",
    "def dfs_util(g: Graph, visited: defaultdict, v: int) -> None:\n",
    "    '''\n",
    "    Recursive version\n",
    "    '''  \n",
    "    visited[v] = True\n",
    "    print(v)\n",
    "    for e in graph[v]:\n",
    "        if not visited[e]:\n",
    "            dfs(g, e)"
   ]
  },
  {
   "cell_type": "code",
   "execution_count": 9,
   "metadata": {},
   "outputs": [],
   "source": [
    "import random\n",
    "\n",
    "def dfs(g: Graph, v: int) -> None:\n",
    "    '''\n",
    "    Iterative version\n",
    "    '''\n",
    "    visited = defaultdict(bool)\n",
    "    for v in g.keys():\n",
    "        visited[v] = False\n",
    "\n",
    "    stack = []\n",
    "    stack.append(random.choice(g.keys())) # choose an arbitrary starting vertex\n",
    "    \n",
    "    while len(stack) > 0:\n",
    "        v = stack[-1]\n",
    "        visited[v] = True\n",
    "        print(v)\n",
    "        stack.pop()\n",
    "        for e in graph[v]:\n",
    "            if not visited[e]:\n",
    "                stack.append(e)"
   ]
  },
  {
   "cell_type": "markdown",
   "metadata": {},
   "source": [
    "## 2. Breadth-first search (BFS)"
   ]
  },
  {
   "cell_type": "markdown",
   "metadata": {},
   "source": [
    "The main difference between BFS and DFS is the order in which we traverse child nodes. In DFS we use a stack to add child nodes, adding all the child nodes of some node, and then taking the last added child and repeating the action.\n",
    "\n",
    "In BFS, however, we use a queue. We add all the child nodes like before, but instead of taking the last adding child node, we look at the first child we added and add all of its children to the very end of the queue.\n",
    "\n",
    "<p>\n",
    "    <p>\n",
    "        <strong>Time:</strong>\n",
    "        <p>\n",
    "            O(v + e) <strong>or</strong> O(b^d)\n",
    "        </p>\n",
    "    </p>\n",
    "    </br>\n",
    "    <p>\n",
    "        <strong>Space:</strong>\n",
    "        <p>\n",
    "            O(b^d)\n",
    "        </p>\n",
    "    </p>\n",
    "    <p>\n",
    "        where v = # of vertices, e = # of edges, b = branching factor, d = depth\n",
    "    </p>\n",
    "</p>\n",
    "\n",
    "BFS is also prone to looping infinitely if the graph contains a cycle. To combat this, we use an extra data structure to mark visited nodes."
   ]
  },
  {
   "cell_type": "code",
   "execution_count": 11,
   "metadata": {},
   "outputs": [],
   "source": [
    "import queue\n",
    "from collections import defaultdict\n",
    "\n",
    "def bfs(g: Graph, v: int) -> None:\n",
    "    '''\n",
    "    Because the queue and stack are essentially opposites in use.\n",
    "    There isn't a feasible recursive implementation of BFS unless we alter\n",
    "    the call stack to act as a queue, which should never be done.\n",
    "    '''\n",
    "    visited = defaultdict(bool)\n",
    "    for v in g.keys():\n",
    "        visited[v] = False\n",
    "    \n",
    "    q = queue.Queue()\n",
    "    q.put(random.choice(g.keys())) # choose an arbitrary starting vertex\n",
    "    \n",
    "    while not q.empty():\n",
    "        v = q.get()\n",
    "        visited[v] = True\n",
    "        print(v)\n",
    "        for e in graph[v]:\n",
    "            if not visited[e]:\n",
    "                q.put(e)"
   ]
  },
  {
   "cell_type": "markdown",
   "metadata": {},
   "source": [
    "## 3. Matching Parenthesis"
   ]
  },
  {
   "cell_type": "markdown",
   "metadata": {},
   "source": [
    "<p>\n",
    "    Given a brackets such as '()[]{}', we want to find either the given string of brackets is valid ie. they all correctly close. Or we need to find the next valid bracket to add.\n",
    "</p>\n",
    "\n",
    "<p>\n",
    "    Typically, we use a stack to solve this problem. We add opening parentheses to the stack, and when we encounter a closing one, we try and match it with the last added opening parenthesis. More convoluted answers can use recursion, but a stack is the easiest to understand.\n",
    "</p>"
   ]
  },
  {
   "cell_type": "code",
   "execution_count": 12,
   "metadata": {},
   "outputs": [],
   "source": [
    "def matching_parens(parens: str) -> bool:\n",
    "    paren_dict = {\n",
    "        '(': ')',\n",
    "        '[': ']',\n",
    "        '{': '}',\n",
    "    }\n",
    "    \n",
    "    stack = []\n",
    "    for paren in parens:\n",
    "        if paren in paren_dict.keys():\n",
    "            stack.append(paren)\n",
    "        else:\n",
    "            if len(stack) == 0:\n",
    "                return False\n",
    "            \n",
    "            last_open = stack[-1]\n",
    "            stack.pop()\n",
    "            if paren != paren_dict[last_open]:\n",
    "                return False\n",
    "            \n",
    "    if len(stack) != 0:\n",
    "        return False\n",
    "    \n",
    "    return True"
   ]
  },
  {
   "cell_type": "code",
   "execution_count": 16,
   "metadata": {},
   "outputs": [
    {
     "data": {
      "text/plain": [
       "True"
      ]
     },
     "execution_count": 16,
     "metadata": {},
     "output_type": "execute_result"
    }
   ],
   "source": [
    "matching_parens('')"
   ]
  },
  {
   "cell_type": "markdown",
   "metadata": {},
   "source": [
    "## 4. Making use of Hash Tables"
   ]
  },
  {
   "cell_type": "markdown",
   "metadata": {},
   "source": [
    "Another fundamental skill is to be able to recognize situations in which a hash table can be utilized. For example, suppose we want to traverse a 2-D matrix. We need to somehow keep track of already visited locations in the matrix. A hash table can be used to maintain this information. \n",
    "\n",
    "Further, we can also use hash tables to cache values. For example, computing the nth fibonacci number. The fibonacci number of 10 (fib(10)) = fib(9) + fib(8). A hash table can be used to cache the previous fibonacci numbers."
   ]
  },
  {
   "cell_type": "code",
   "execution_count": 2,
   "metadata": {},
   "outputs": [
    {
     "name": "stdout",
     "output_type": "stream",
     "text": [
      "(5, 3)\n"
     ]
    }
   ],
   "source": [
    "def two_sum(nums: list, k: int) -> (int, int):\n",
    "    '''\n",
    "    In the two sum problem, the goal is to find two numbers that sum up to the \n",
    "    target value: k\n",
    "    '''\n",
    "    sums = dict()\n",
    "    for num in nums:\n",
    "        sums[k - num] = num\n",
    "        \n",
    "    for num in nums:\n",
    "        if num in sums:\n",
    "            return (num, sums[num])\n",
    "\n",
    "res = two_sum([5,1,3], 8)\n",
    "print(res)"
   ]
  },
  {
   "cell_type": "code",
   "execution_count": 4,
   "metadata": {},
   "outputs": [
    {
     "name": "stdout",
     "output_type": "stream",
     "text": [
      "55\n"
     ]
    }
   ],
   "source": [
    "def fib(num: int) -> int:\n",
    "    '''Calculate the fibonacci number'''\n",
    "    fib_map = dict()\n",
    "    fib_map[0] = 0\n",
    "    fib_map[1] = 1\n",
    "    \n",
    "    for i in range(2, num+1):\n",
    "        fib_map[i] = fib_map[i-1] + fib_map[i-2]\n",
    "        \n",
    "    return fib_map[num]\n",
    "\n",
    "res = fib(10)\n",
    "print(res)"
   ]
  },
  {
   "cell_type": "markdown",
   "metadata": {},
   "source": [
    "## 5. Variables/Pointers manipulation"
   ]
  },
  {
   "cell_type": "markdown",
   "metadata": {},
   "source": [
    "Manipulating multiple variables and/or pointers at once is not an algorithm but it is such a commonly needed concept in algorithms.\n",
    "\n",
    "They can be used for wanting to parellize traversing strings, analyzing linked lists, etc.\n",
    "\n",
    "A good example is finding the longest palindromic substring."
   ]
  },
  {
   "cell_type": "code",
   "execution_count": 20,
   "metadata": {},
   "outputs": [
    {
     "data": {
      "text/plain": [
       "'baab'"
      ]
     },
     "execution_count": 20,
     "metadata": {},
     "output_type": "execute_result"
    }
   ],
   "source": [
    "def longest_palindrome(S: str) -> str:\n",
    "    '''Find the longest palindromic substring'''\n",
    "    longest = ''\n",
    "    n = len(S)\n",
    "    for i in range(n):\n",
    "        sub1 = expand(S, i, i)\n",
    "        sub2 = expand(S, i, i+1)\n",
    "        longest = max(longest, sub1, sub2)\n",
    "\n",
    "    return longest\n",
    "\n",
    "def expand(S: str, left: int, right: int) -> str:\n",
    "    palindrome = ''\n",
    "    while (left > -1 and right < len(S)):\n",
    "            if S[left] != S[right]:\n",
    "                return palindrome\n",
    "            \n",
    "            palindrome = S[left:right+1]\n",
    "            left -= 1\n",
    "            right += 1\n",
    "            \n",
    "    return palindrome\n",
    "\n",
    "longest_palindrome('abaabba')"
   ]
  },
  {
   "cell_type": "markdown",
   "metadata": {},
   "source": [
    "## 6. Reversing a linked list"
   ]
  },
  {
   "cell_type": "markdown",
   "metadata": {},
   "source": [
    "A more contrived and tricky problem, but has application in many interview questions. Problems revolving around linked lists hardly arise in real-world problems, but they are really popular for interviewing. These can be deleting a node in a linked list, finding duplicates, deleting duplicates, and, of course, reversing a linked list.\n",
    "\n",
    "To reverse a linked list, you need 3 different pointers which can be stressful to do on the fly, and even creating the linked list class can cause issues, so let's practice!"
   ]
  },
  {
   "cell_type": "code",
   "execution_count": 23,
   "metadata": {},
   "outputs": [],
   "source": [
    "class ListNode:\n",
    "    def __init__(self, val, next=None):\n",
    "        self.val = val\n",
    "        self.next = next\n"
   ]
  },
  {
   "cell_type": "code",
   "execution_count": 54,
   "metadata": {},
   "outputs": [
    {
     "name": "stdout",
     "output_type": "stream",
     "text": [
      "1 5 7 \n",
      "7 5 1 \n"
     ]
    }
   ],
   "source": [
    "def reverse_ll(root: ListNode) -> ListNode:\n",
    "    if root.next == None:\n",
    "        return root\n",
    "    \n",
    "    prev = None\n",
    "    cur = root\n",
    "    nxt = None\n",
    "    \n",
    "    while cur != None:\n",
    "        nxt = cur.next\n",
    "        cur.next = prev\n",
    "        prev = cur\n",
    "        cur = nxt\n",
    "\n",
    "    return prev\n",
    "\n",
    "def print_ll(node: ListNode):\n",
    "    while node:\n",
    "        print(node.val, end=' ')\n",
    "        node = node.next\n",
    "    print()\n",
    "\n",
    "if __name__ == '__main__':\n",
    "    root = ListNode(1)\n",
    "    root.next = ListNode(5)\n",
    "    root.next.next = ListNode(7)\n",
    "    print_ll(root)\n",
    "    root = reverse_ll(root)\n",
    "    print_ll(root)"
   ]
  },
  {
   "cell_type": "markdown",
   "metadata": {},
   "source": [
    "## 7. Sorting fundamentals"
   ]
  },
  {
   "cell_type": "markdown",
   "metadata": {},
   "source": [
    "Understanding the fundamentals of sorting is important. You do not have to memorize how mergesort, quicksort, heapsort work, but understanding the general concepts behind them and understand why sorts like quicksort and mergesort run superiorly faster than bubble sort.\n",
    "\n",
    "Implementing an actual sort is unlikely, but knowing the runtime of a sort, runtimes of algorithms with sorted vs. unsorted inputs, and how sorting would affect the overall computation complexity of an algorithm.\n",
    "\n",
    "For example, if we were to sort an array in O(nlogn) time, but the overall algorithm runs in O(n^2), we need to understand that the sort is fine and does not affect the algorithm as if it that would have otherwise run in O(n) time.\n",
    "\n",
    "<p>\n",
    "    <strong>If you want to brush up on popular sorting algorithms, take a look at the \"All sorts of Sorts\" notebook!</strong>\n",
    "</p>"
   ]
  },
  {
   "cell_type": "markdown",
   "metadata": {},
   "source": [
    "## 8. Recursion"
   ]
  },
  {
   "cell_type": "markdown",
   "metadata": {},
   "source": [
    "Recursion is rarely seen in production code or in an app, but it is still used and tested a lot in interviews. The reason for this is because it is a good indicator of your problem solving skills and understanding of fundamental coding.\n",
    "\n",
    "It is not that practical but it is tricky. There are probably going to be a couple problems that have recursive solutions in the interview, so being very familiar with recursion is a must.\n",
    "\n",
    "When learning about recursion and looking at recursive solutions may seem obvious to us, but in a whiteboard setting where we are asked to implement a recursive solution, the complexity of recursion may creep up on us and trip us up.\n",
    "\n",
    "They key to preparation is a lot of practice with writing recursion.\n",
    "\n",
    "<p>\n",
    "    What to remember when implementing a recursive solution:\n",
    "    <ul>\n",
    "        <li>what you do at every iteration</li>\n",
    "        <li>what are your cases for ending the recursion</li>\n",
    "        <li>how the recursive calls themselves look like</li>\n",
    "    </ul>\n",
    "</p>\n",
    "\n",
    "To get to the elegant forms that recursion may offer, we need to practice writing them out in their grosser versions and then smooth out the details to its elegant form by doing things like removing unnecessary checks that would be captured in the recursion already."
   ]
  },
  {
   "cell_type": "markdown",
   "metadata": {},
   "source": [
    "## 9. Custom data structures"
   ]
  },
  {
   "cell_type": "markdown",
   "metadata": {},
   "source": [
    "Again, this is not an algorithm but the knowledge to be able to construct a custom data structure that you might need for an algorithm.\n",
    "\n",
    "A prominent one is a suffix tree-like structure where you want to capture multiple strings. Some problems are difficult if solved with just an algorithm and should instead be solved with a class. So the idea is not constructing a data structure but a class that may be a data structure that will allow us to solve the problem well. \n",
    "\n",
    "Not every question is purely algorithm-focused, as we've seen, some are just coding where we manipulate pointers. Questions regarding these cases are focused on the data structure or class that we need to construct, and the algorithm wouldn't be too complicated to finish the solution."
   ]
  },
  {
   "cell_type": "markdown",
   "metadata": {},
   "source": [
    "## 10. Binary search"
   ]
  },
  {
   "cell_type": "markdown",
   "metadata": {},
   "source": [
    "An algorithm that is quite simple once you understand, but absolutely fundamental. You do not want to be the person who walks into the interview not knowing how to implement binary search.\n",
    "\n",
    "Binary search is commonly used in real life. \n",
    "\n",
    "Say you have a sorted array of integers, and you want to find an integer. You look at the middle of the array and check if that integer is the one you are looking for. If it is great! If not, if it is greater than the integer you are looking for, you know that your integer lies in the section of the array before that integer. Similarly, if that integer is less than the integer you are looking for, you know that it lies in the section of the array after. You repeat this process until you find the integer you are looking for.\n",
    "\n",
    "On each iteration of the search, you effectively eliminate half of the subarray being searched on decreasing the search time to be O(logn).\n",
    "\n",
    "A practical application is where you have many versions of your app and you wish to find the version where the crash occurred. You can use binary search and find this faulty version. Or, if you have a bunch of git commits and you want to find the commit with the bug.\n",
    "\n",
    "Often times, you are not going to get an interview question that is literally \"implement binary search\". Instead, what you will get is a question with a solution that leads to binary search."
   ]
  },
  {
   "cell_type": "code",
   "execution_count": 20,
   "metadata": {
    "scrolled": false
   },
   "outputs": [
    {
     "name": "stdout",
     "output_type": "stream",
     "text": [
      "5\n"
     ]
    }
   ],
   "source": [
    "def binary_search(arr: list, num: int, left: int, right: int) -> int:\n",
    "    '''Recursive version'''\n",
    "    if right < left: # case where the integer could not be found\n",
    "        return -1\n",
    "    \n",
    "    mid = (left + right) // 2\n",
    "    if arr[mid] == num:\n",
    "        return mid\n",
    "    elif arr[mid] > num:\n",
    "        return binary_search(arr, num, left, mid - 1)\n",
    "    else:\n",
    "        return binary_search(arr, num, mid + 1, right)\n",
    "    \n",
    "arr = [1,2,4,8,9,14,17]\n",
    "pos = binary_search(arr, 14, 0, len(arr) - 1)\n",
    "print(pos)"
   ]
  },
  {
   "cell_type": "code",
   "execution_count": 22,
   "metadata": {},
   "outputs": [
    {
     "name": "stdout",
     "output_type": "stream",
     "text": [
      "5\n"
     ]
    }
   ],
   "source": [
    "def binary_search(arr: list, num: int) -> int:\n",
    "    '''Iterative version'''\n",
    "    left = 0\n",
    "    right = len(arr) - 1\n",
    "    \n",
    "    while left < right:\n",
    "        mid = (left + right) // 2\n",
    "        if arr[mid] == num:\n",
    "            return mid\n",
    "        elif arr[mid] > num:\n",
    "            right = mid - 1\n",
    "        else:\n",
    "            left = mid + 1\n",
    "            \n",
    "    return -1\n",
    "\n",
    "arr = [1,2,4,8,9,14,17]\n",
    "pos = binary_search(arr, 14)\n",
    "print(pos)"
   ]
  },
  {
   "cell_type": "code",
   "execution_count": null,
   "metadata": {},
   "outputs": [],
   "source": []
  }
 ],
 "metadata": {
  "kernelspec": {
   "display_name": "Python 3",
   "language": "python",
   "name": "python3"
  },
  "language_info": {
   "codemirror_mode": {
    "name": "ipython",
    "version": 3
   },
   "file_extension": ".py",
   "mimetype": "text/x-python",
   "name": "python",
   "nbconvert_exporter": "python",
   "pygments_lexer": "ipython3",
   "version": "3.7.6"
  }
 },
 "nbformat": 4,
 "nbformat_minor": 4
}
